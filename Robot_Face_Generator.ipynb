{
 "cells": [
  {
   "cell_type": "markdown",
   "id": "1d271686-ce8e-45cf-93d0-f2fffc8c25c3",
   "metadata": {
    "tags": []
   },
   "source": [
    "# Stable diffusion 2.1 Test # \n",
    "Written by: Jasper Bosschart\n",
    "## Context ##\n",
    "\n",
    "Testfile to test out the capabilities of huggingface models, including stabilityAI's stable diffusion.\n",
    "## Sources ##\n",
    "sources used for this project: \n",
    "-  https://huggingface.co/docs/diffusers/v0.16.0/en/optimization/fp16,\n",
    "-  https://huggingface.co/blog/stable_diffusion#how-does-stable-diffusion-work,\n",
    "-  https://huggingface.co/docs/diffusers/using-diffusers/write_own_pipeline"
   ]
  },
  {
   "cell_type": "code",
   "execution_count": null,
   "id": "39c8ea24-12b1-41b8-aef4-39247fca0650",
   "metadata": {
    "scrolled": true,
    "tags": []
   },
   "outputs": [],
   "source": [
    "!pip install xformers\n",
    "!pip install torch==1.13.1+cu116 torchvision==0.14.1+cu116 torchaudio==0.13.1 --extra-index-url https://download.pytorch.org/whl/cu116\n",
    "!pip install diffusers \n",
    "!pip install accelerate \n",
    "!pip install transformers\n",
    "import torch\n",
    "import accelerate \n",
    "import transformers\n",
    "from diffusers import StableDiffusionPipeline, UniPCMultistepScheduler"
   ]
  },
  {
   "cell_type": "code",
   "execution_count": null,
   "id": "b3c54643-d982-4238-a1b6-7ccce6c5816b",
   "metadata": {},
   "outputs": [],
   "source": [
    "from PIL import Image\n",
    "\n",
    "def image_grid(imgs, rows, cols):\n",
    "    assert len(imgs) == rows*cols\n",
    "\n",
    "    w, h = imgs[0].size\n",
    "    grid = Image.new('RGB', size=(cols*w, rows*h))\n",
    "    grid_w, grid_h = grid.size\n",
    "    \n",
    "    for i, img in enumerate(imgs):\n",
    "        grid.paste(img, box=(i%cols*w, i//cols*h))\n",
    "    return grid"
   ]
  },
  {
   "cell_type": "code",
   "execution_count": null,
   "id": "990563f5-4f25-4086-a9f9-b9472af2b273",
   "metadata": {
    "tags": []
   },
   "outputs": [],
   "source": [
    "#orch.backends.cuda.matmul.allow_tf32 = False\n",
    "pipe = StableDiffusionPipeline.from_pretrained(\n",
    "    \"runwayml/stable-diffusion-v1-5\",\n",
    "    torch_dtype=torch.float16,\n",
    ")\n",
    "pipe.enable_sequential_cpu_offload()\n",
    "#generator = torch.Generator(\"cuda\").manual_seed(1024)"
   ]
  },
  {
   "cell_type": "code",
   "execution_count": null,
   "id": "3cbd0c0e-4fa9-40c0-a4f7-28dd9bcba751",
   "metadata": {},
   "outputs": [],
   "source": [
    "prompt = \"robot portrait, intricate, elegant, highly detailed, digital painting, artstation, concept art, smooth, sharp focus, 8k\"\n",
    "neg_prompt = \"human features\"\n"
   ]
  },
  {
   "cell_type": "code",
   "execution_count": null,
   "id": "fa90881c-8ef1-41e0-ba66-881cce1aa65f",
   "metadata": {},
   "outputs": [],
   "source": [
    "prompt = \"robot portrait, realistic\"\n",
    "neg_prompt = \"painting\"\n"
   ]
  },
  {
   "cell_type": "code",
   "execution_count": null,
   "id": "9b22ab2f-f5e4-4058-b2b9-2fa312b501cb",
   "metadata": {
    "tags": []
   },
   "outputs": [],
   "source": [
    "num_images = 4\n",
    "Multi_prompt = [prompt] * num_images\n",
    "Multi_prompt_N = [neg_prompt] * num_images\n",
    "\n",
    "images = pipe(prompt=Multi_prompt, negative_prompt=Multi_prompt_N).images\n",
    "\n",
    "grid = image_grid(images, rows=1, cols=4)\n",
    "display(grid)"
   ]
  },
  {
   "cell_type": "code",
   "execution_count": null,
   "id": "2f9d6c63-2eb9-4d78-9bef-378f8db1ac28",
   "metadata": {},
   "outputs": [],
   "source": [
    "grid.save(f\"robot1.png\")"
   ]
  },
  {
   "cell_type": "code",
   "execution_count": null,
   "id": "b464d049-346c-4865-bd65-c6ab14533bdd",
   "metadata": {},
   "outputs": [],
   "source": [
    "images = pipe(prompt=prompt, negative_prompt=neg_prompt, num_images_per_prompt=2).images\n",
    "\n",
    "grid = image_grid(images, rows=1, cols=4)\n",
    "display(grid)"
   ]
  },
  {
   "cell_type": "code",
   "execution_count": null,
   "id": "fe3b22a8-8142-4273-b5b3-ff1d20faee24",
   "metadata": {},
   "outputs": [],
   "source": [
    "prompt = \"portrait photograph of a robot\"\n",
    "image = pipe(prompt).images[0]\n",
    "#image.show(\"image.png\")\n",
    "#display(image)"
   ]
  },
  {
   "cell_type": "code",
   "execution_count": null,
   "id": "e05c9461-8781-4119-a532-f4edcef7a2cc",
   "metadata": {},
   "outputs": [],
   "source": [
    "display(grid)"
   ]
  },
  {
   "cell_type": "code",
   "execution_count": null,
   "id": "885ef286-794b-4de0-95fa-f8833c1aa929",
   "metadata": {},
   "outputs": [],
   "source": [
    "display(images[2])"
   ]
  },
  {
   "cell_type": "code",
   "execution_count": null,
   "id": "3ddbb35b-b1b6-45aa-974f-45783458eccc",
   "metadata": {},
   "outputs": [],
   "source": [
    "image.save(f\"can1.png\")"
   ]
  },
  {
   "cell_type": "code",
   "execution_count": null,
   "id": "55409b21-25e0-4232-8b4c-514258d223ad",
   "metadata": {},
   "outputs": [],
   "source": []
  }
 ],
 "metadata": {
  "kernelspec": {
   "display_name": "Python",
   "language": "python",
   "name": "python3"
  },
  "language_info": {
   "codemirror_mode": {
    "name": "ipython",
    "version": 3
   },
   "file_extension": ".py",
   "mimetype": "text/x-python",
   "name": "python",
   "nbconvert_exporter": "python",
   "pygments_lexer": "ipython3",
   "version": "3.8.10"
  }
 },
 "nbformat": 4,
 "nbformat_minor": 5
}
