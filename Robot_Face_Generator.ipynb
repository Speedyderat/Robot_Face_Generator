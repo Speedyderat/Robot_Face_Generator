{
 "cells": [
  {
   "cell_type": "markdown",
   "id": "1d271686-ce8e-45cf-93d0-f2fffc8c25c3",
   "metadata": {
    "tags": []
   },
   "source": [
    "# Robot Face Generator Tool # \n",
    "Written by: Jasper Bosschart\n",
    "## Context ##\n",
    "\n",
    "This is a tool that can generate robot faces using Image Generation AI. <br>\n",
    "The tool is built around the HuggingFace🤗 [Diffusers](https://huggingface.co/docs/diffusers/index) library. This library can be used to access a wide variety of AI models available on the HuggingFace🤗 [website](https://huggingface.co/). The tool uses an Image Generation Model called [\"stable-diffusion-v1-5\"](https://huggingface.co/runwayml/stable-diffusion-v1-5) by runwayml. <br>\n",
    "The tool is still a work in progress and is subjected to change. It is currently built within Jupyter Notebook using Python, as this allows the file to be ran off a webserver. This is necessary as the tool requires large amounts of computational power, something a simple laptop is not able to handle. Future development might enable for a standalone application.\n",
    "## Sources ##\n",
    "For this project the following sources have been used:\n",
    "-  https://huggingface.co/blog/stable_diffusion#how-does-stable-diffusion-work,\n",
    "-  https://huggingface.co/runwayml/stable-diffusion-v1-5,\n",
    "-  https://huggingface.co/docs/diffusers/using-diffusers/write_own_pipeline,\n",
    "-  https://huggingface.co/docs/diffusers/v0.16.0/en/optimization/fp16,"
   ]
  },
  {
   "cell_type": "code",
   "execution_count": null,
   "id": "8f0d5b4b-9d84-4536-be25-2acbaed980aa",
   "metadata": {},
   "outputs": [],
   "source": [
    "!pip install xformers==0.0.16\n",
    "!pip install torch==1.13.1+cu116 torchvision==0.14.1+cu116 torchaudio==0.13.1 --extra-index-url https://download.pytorch.org/whl/cu116\n",
    "!pip install diffusers \n",
    "!pip install accelerate \n",
    "!pip install transformers"
   ]
  },
  {
   "cell_type": "code",
   "execution_count": null,
   "id": "39c8ea24-12b1-41b8-aef4-39247fca0650",
   "metadata": {
    "scrolled": true,
    "tags": []
   },
   "outputs": [],
   "source": [
    "import torch\n",
    "import accelerate \n",
    "import transformers\n",
    "from diffusers import StableDiffusionPipeline"
   ]
  },
  {
   "cell_type": "code",
   "execution_count": null,
   "id": "fce7cbf0-2c73-4b80-af39-37eafce1517d",
   "metadata": {},
   "outputs": [],
   "source": [
    "torch.cuda.empty_cache()"
   ]
  },
  {
   "cell_type": "code",
   "execution_count": null,
   "id": "b3c54643-d982-4238-a1b6-7ccce6c5816b",
   "metadata": {},
   "outputs": [],
   "source": [
    "from PIL import Image\n",
    "\n",
    "def image_grid(imgs, rows, cols):\n",
    "    assert len(imgs) == rows*cols\n",
    "\n",
    "    w, h = imgs[0].size\n",
    "    grid = Image.new('RGB', size=(cols*w, rows*h))\n",
    "    grid_w, grid_h = grid.size\n",
    "    \n",
    "    for i, img in enumerate(imgs):\n",
    "        grid.paste(img, box=(i%cols*w, i//cols*h))\n",
    "    return grid"
   ]
  },
  {
   "cell_type": "code",
   "execution_count": null,
   "id": "990563f5-4f25-4086-a9f9-b9472af2b273",
   "metadata": {
    "tags": []
   },
   "outputs": [],
   "source": [
    "#orch.backends.cuda.matmul.allow_tf32 = False\n",
    "pipe = StableDiffusionPipeline.from_pretrained(\n",
    "    \"runwayml/stable-diffusion-v1-5\",\n",
    "    torch_dtype=torch.float16,\n",
    ")\n",
    "pipe.enable_sequential_cpu_offload()\n",
    "#generator = torch.Generator(\"cuda\").manual_seed(1024)"
   ]
  },
  {
   "cell_type": "code",
   "execution_count": 5,
   "id": "b7dd514b-321f-4253-9420-b09273606ddc",
   "metadata": {},
   "outputs": [
    {
     "ename": "NameError",
     "evalue": "name 'pipe' is not defined",
     "output_type": "error",
     "traceback": [
      "\u001b[0;31m---------------------------------------------------------------------------\u001b[0m",
      "\u001b[0;31mNameError\u001b[0m                                 Traceback (most recent call last)",
      "Cell \u001b[0;32mIn[5], line 1\u001b[0m\n\u001b[0;32m----> 1\u001b[0m pipe \u001b[38;5;241m=\u001b[39m \u001b[43mpipe\u001b[49m\u001b[38;5;241m.\u001b[39mto(\u001b[38;5;124m\"\u001b[39m\u001b[38;5;124mcuda\u001b[39m\u001b[38;5;124m\"\u001b[39m)\n",
      "\u001b[0;31mNameError\u001b[0m: name 'pipe' is not defined"
     ]
    }
   ],
   "source": [
    "pipe = pipe.to(\"cuda\")"
   ]
  },
  {
   "cell_type": "code",
   "execution_count": null,
   "id": "3cbd0c0e-4fa9-40c0-a4f7-28dd9bcba751",
   "metadata": {},
   "outputs": [],
   "source": [
    "prompt = \"robot portrait, intricate, elegant, highly detailed, digital painting, artstation, concept art, smooth, sharp focus, 8k\"\n",
    "neg_prompt = \"human features\"\n"
   ]
  },
  {
   "cell_type": "code",
   "execution_count": null,
   "id": "fa90881c-8ef1-41e0-ba66-881cce1aa65f",
   "metadata": {},
   "outputs": [],
   "source": [
    "prompt = \"robot portrait, realistic\"\n",
    "neg_prompt = \"painting\"\n"
   ]
  },
  {
   "cell_type": "code",
   "execution_count": null,
   "id": "0000fb70-e829-4665-b2d2-9f17f87c0f31",
   "metadata": {},
   "outputs": [],
   "source": [
    "!nvidia-smi"
   ]
  },
  {
   "cell_type": "code",
   "execution_count": 3,
   "id": "a81f0bb9-0826-423c-9ce0-5abdc9b8e9a2",
   "metadata": {},
   "outputs": [
    {
     "name": "stdout",
     "output_type": "stream",
     "text": [
      "nvcc: NVIDIA (R) Cuda compiler driver\n",
      "Copyright (c) 2005-2022 NVIDIA Corporation\n",
      "Built on Tue_Mar__8_18:18:20_PST_2022\n",
      "Cuda compilation tools, release 11.6, V11.6.124\n",
      "Build cuda_11.6.r11.6/compiler.31057947_0\n"
     ]
    }
   ],
   "source": [
    "!nvcc --version"
   ]
  },
  {
   "cell_type": "code",
   "execution_count": null,
   "id": "afbb9c31-a668-4897-ac93-d06b2557d04d",
   "metadata": {},
   "outputs": [],
   "source": [
    "!nvcc --run /path/to/sample/cuda/cublas"
   ]
  },
  {
   "cell_type": "code",
   "execution_count": null,
   "id": "9b22ab2f-f5e4-4058-b2b9-2fa312b501cb",
   "metadata": {
    "tags": []
   },
   "outputs": [],
   "source": [
    "num_images = 2\n",
    "Multi_prompt = [prompt] * num_images\n",
    "Multi_prompt_N = [neg_prompt] * num_images\n",
    "\n",
    "images = pipe(prompt=Multi_prompt, negative_prompt=Multi_prompt_N).images\n",
    "\n",
    "grid = image_grid(images, rows=1, cols=4)\n",
    "display(grid)"
   ]
  },
  {
   "cell_type": "code",
   "execution_count": null,
   "id": "2f9d6c63-2eb9-4d78-9bef-378f8db1ac28",
   "metadata": {},
   "outputs": [],
   "source": [
    "grid.save(f\"robot1.png\")"
   ]
  },
  {
   "cell_type": "code",
   "execution_count": null,
   "id": "b464d049-346c-4865-bd65-c6ab14533bdd",
   "metadata": {},
   "outputs": [],
   "source": [
    "images = pipe(prompt=prompt, negative_prompt=neg_prompt, num_images_per_prompt=2).images\n",
    "\n",
    "grid = image_grid(images, rows=1, cols=4)\n",
    "display(grid)"
   ]
  },
  {
   "cell_type": "code",
   "execution_count": null,
   "id": "fe3b22a8-8142-4273-b5b3-ff1d20faee24",
   "metadata": {},
   "outputs": [],
   "source": [
    "prompt = \"portrait photograph of a robot\"\n",
    "image = pipe(prompt).images[0]\n",
    "#image.show(\"image.png\")\n",
    "#display(image)"
   ]
  },
  {
   "cell_type": "code",
   "execution_count": null,
   "id": "e05c9461-8781-4119-a532-f4edcef7a2cc",
   "metadata": {},
   "outputs": [],
   "source": [
    "display(grid)"
   ]
  },
  {
   "cell_type": "code",
   "execution_count": null,
   "id": "885ef286-794b-4de0-95fa-f8833c1aa929",
   "metadata": {},
   "outputs": [],
   "source": [
    "display(images[2])"
   ]
  },
  {
   "cell_type": "code",
   "execution_count": null,
   "id": "3ddbb35b-b1b6-45aa-974f-45783458eccc",
   "metadata": {},
   "outputs": [],
   "source": [
    "image.save(f\"can1.png\")"
   ]
  },
  {
   "cell_type": "code",
   "execution_count": null,
   "id": "27a2497e-de09-4918-8a8a-b8d566ef1c3c",
   "metadata": {},
   "outputs": [],
   "source": [
    "@InProceedings{Rombach_2022_CVPR,\n",
    "    author    = {Rombach, Robin and Blattmann, Andreas and Lorenz, Dominik and Esser, Patrick and Ommer, Bj\\\"orn},\n",
    "    title     = {High-Resolution Image Synthesis With Latent Diffusion Models},\n",
    "    booktitle = {Proceedings of the IEEE/CVF Conference on Computer Vision and Pattern Recognition (CVPR)},\n",
    "    month     = {June},\n",
    "    year      = {2022},\n",
    "    pages     = {10684-10695}\n",
    "}"
   ]
  },
  {
   "cell_type": "code",
   "execution_count": null,
   "id": "e0cd6016-ac18-44aa-ab51-f29bc0eecae3",
   "metadata": {},
   "outputs": [],
   "source": []
  }
 ],
 "metadata": {
  "kernelspec": {
   "display_name": "Python",
   "language": "python",
   "name": "python3"
  },
  "language_info": {
   "codemirror_mode": {
    "name": "ipython",
    "version": 3
   },
   "file_extension": ".py",
   "mimetype": "text/x-python",
   "name": "python",
   "nbconvert_exporter": "python",
   "pygments_lexer": "ipython3",
   "version": "3.8.10"
  }
 },
 "nbformat": 4,
 "nbformat_minor": 5
}
